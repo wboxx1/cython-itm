{
 "cells": [
  {
   "cell_type": "code",
   "execution_count": 1,
   "metadata": {},
   "outputs": [],
   "source": [
    "import numpy as np\n",
    "from py_itm import ITM\n"
   ]
  },
  {
   "cell_type": "code",
   "execution_count": 15,
   "metadata": {},
   "outputs": [],
   "source": [
    "h_tx__meter = 10\n",
    "h_rx__meter = 10\n",
    "pfl = np.array(\n",
    "    [10.0, 200.0, 1.0, 2.0, 3.0, 40.0, 5.0, 6.0, 7.0, 8.0, 9.0, 10.0], dtype=np.double\n",
    ")\n",
    "climate = 5\n",
    "N_0 = 301.0\n",
    "f__mhz = 2000.0\n",
    "pol = 1\n",
    "epsilon = 15.0\n",
    "sigma = 0.008\n",
    "time = 90.0\n",
    "location = 95.0\n",
    "situation = 90.0\n",
    "mdvar = 12\n",
    "# A__db = np.ndarray((1,))\n",
    "# warnings = np.ndarray((1,), dtype=np.int64)\n"
   ]
  },
  {
   "cell_type": "code",
   "execution_count": 16,
   "metadata": {},
   "outputs": [
    {
     "name": "stdout",
     "output_type": "stream",
     "text": [
      "1\n",
      "0x40656d2e000001a0\n"
     ]
    }
   ],
   "source": [
    "test = ITM(\n",
    "    h_tx__meter,\n",
    "    h_rx__meter,\n",
    "    pfl,\n",
    "    climate,\n",
    "    N_0,\n",
    "    f__mhz,\n",
    "    pol,\n",
    "    epsilon,\n",
    "    sigma,\n",
    "    mdvar,\n",
    ")\n",
    "_ = test.itm_p2p_tls(\n",
    "    time,\n",
    "    location,\n",
    "    situation,\n",
    ")\n",
    "print(_)\n",
    "print(test.warnings)\n"
   ]
  },
  {
   "cell_type": "code",
   "execution_count": 17,
   "metadata": {},
   "outputs": [
    {
     "data": {
      "text/plain": [
       "114.7450314917259"
      ]
     },
     "execution_count": 17,
     "metadata": {},
     "output_type": "execute_result"
    }
   ],
   "source": [
    "test.A__db"
   ]
  },
  {
   "cell_type": "code",
   "execution_count": 18,
   "metadata": {},
   "outputs": [],
   "source": [
    "_ = test.itm_p2p_cr(90, 90)\n"
   ]
  },
  {
   "cell_type": "code",
   "execution_count": 19,
   "metadata": {},
   "outputs": [
    {
     "data": {
      "text/plain": [
       "114.7450314917259"
      ]
     },
     "execution_count": 19,
     "metadata": {},
     "output_type": "execute_result"
    }
   ],
   "source": [
    "test.A__db"
   ]
  },
  {
   "cell_type": "code",
   "execution_count": 20,
   "metadata": {},
   "outputs": [
    {
     "data": {
      "text/plain": [
       "104.49119982655925"
      ]
     },
     "execution_count": 20,
     "metadata": {},
     "output_type": "execute_result"
    }
   ],
   "source": [
    "test.A_fs__db"
   ]
  },
  {
   "cell_type": "code",
   "execution_count": null,
   "metadata": {},
   "outputs": [],
   "source": []
  }
 ],
 "metadata": {
  "kernelspec": {
   "display_name": "py38",
   "language": "python",
   "name": "python3"
  },
  "language_info": {
   "codemirror_mode": {
    "name": "ipython",
    "version": 3
   },
   "file_extension": ".py",
   "mimetype": "text/x-python",
   "name": "python",
   "nbconvert_exporter": "python",
   "pygments_lexer": "ipython3",
   "version": "3.8.12"
  }
 },
 "nbformat": 4,
 "nbformat_minor": 2
}
